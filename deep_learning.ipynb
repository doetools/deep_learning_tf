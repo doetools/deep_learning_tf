{
  "nbformat": 4,
  "nbformat_minor": 0,
  "metadata": {
    "colab": {
      "provenance": [],
      "gpuType": "T4",
      "authorship_tag": "ABX9TyMEYv/VRw1fLrKU9YFgvXLF",
      "include_colab_link": true
    },
    "kernelspec": {
      "name": "python3",
      "display_name": "Python 3"
    },
    "language_info": {
      "name": "python"
    },
    "accelerator": "GPU"
  },
  "cells": [
    {
      "cell_type": "markdown",
      "metadata": {
        "id": "view-in-github",
        "colab_type": "text"
      },
      "source": [
        "<a href=\"https://colab.research.google.com/github/doetools/deep_learning_tf/blob/main/deep_learning.ipynb\" target=\"_parent\"><img src=\"https://colab.research.google.com/assets/colab-badge.svg\" alt=\"Open In Colab\"/></a>"
      ]
    },
    {
      "cell_type": "markdown",
      "source": [
        "get started with basic tensorflow operations"
      ],
      "metadata": {
        "id": "4n4qEHMVugD4"
      }
    },
    {
      "cell_type": "code",
      "source": [
        "print(tf.__version__)"
      ],
      "metadata": {
        "colab": {
          "base_uri": "https://localhost:8080/"
        },
        "id": "xQM7xKmgzqu5",
        "outputId": "1566e040-2fbb-4db2-af2e-58693b171c21"
      },
      "execution_count": 4,
      "outputs": [
        {
          "output_type": "stream",
          "name": "stdout",
          "text": [
            "2.12.0\n"
          ]
        }
      ]
    },
    {
      "cell_type": "markdown",
      "source": [
        "the eager mode and has to use gradient tape\n",
        "https://www.tensorflow.org/guide/autodiff"
      ],
      "metadata": {
        "id": "CsxPKadvxqSX"
      }
    },
    {
      "cell_type": "code",
      "source": [
        "x = tf.Variable(3.0)\n",
        "y = tf.Variable(4.0)\n",
        "\n",
        "with tf.GradientTape() as tape:\n",
        "  f = x*x*y + y +2\n",
        "\n",
        "dy_dx = tape.gradient(f, x)\n",
        "dy_dx.numpy()"
      ],
      "metadata": {
        "colab": {
          "base_uri": "https://localhost:8080/"
        },
        "id": "7fn45jDczvuV",
        "outputId": "aea32410-30be-4fc9-b191-906a45e2f8b3"
      },
      "execution_count": 25,
      "outputs": [
        {
          "output_type": "execute_result",
          "data": {
            "text/plain": [
              "24.0"
            ]
          },
          "metadata": {},
          "execution_count": 25
        }
      ]
    },
    {
      "cell_type": "markdown",
      "source": [
        "the non-eager mode as decorated by tf.function, which will first convert the python function into a graph (DAG) and then solve it."
      ],
      "metadata": {
        "id": "FHk_MSITx21u"
      }
    },
    {
      "cell_type": "code",
      "execution_count": 24,
      "metadata": {
        "colab": {
          "base_uri": "https://localhost:8080/"
        },
        "id": "wUUFR2aEZmoN",
        "outputId": "eaabddfa-8e3e-4976-b84d-e982b2d56810"
      },
      "outputs": [
        {
          "output_type": "stream",
          "name": "stdout",
          "text": [
            "[24]\n",
            "[<tf.Tensor: shape=(), dtype=float32, numpy=24.0>]\n",
            "<class 'list'>\n"
          ]
        }
      ],
      "source": [
        "import tensorflow as tf\n",
        "\n",
        "x = tf.Variable(3.,name=\"x\",trainable=True)\n",
        "y = tf.Variable(4.,name=\"y\",trainable=True)\n",
        "\n",
        "\n",
        "@tf.function\n",
        "def fn(x, y):\n",
        "  f = x*x*y + y +2\n",
        "  g = tf.gradients(f,x)\n",
        "  tf.print(g)\n",
        "  return g\n",
        "\n",
        "g = fn(x, y)\n",
        "print(g)\n",
        "print(type(g))\n"
      ]
    },
    {
      "cell_type": "markdown",
      "source": [
        "some basic linear algbra\n"
      ],
      "metadata": {
        "id": "_VCYemogyl54"
      }
    },
    {
      "cell_type": "code",
      "source": [
        "a = tf.constant([[1,2],[3 ,4]])\n",
        "b = tf.constant([[3,4], [5, 6]])\n",
        "\n",
        "\n",
        "mul= a*b\n",
        "\n",
        "# a\n",
        "tf.transpose(a)\n",
        "a@tf.transpose(b)\n",
        "mul == tf.multiply(a,b)\n",
        "\n",
        "tf.reduce_sum(a)\n",
        "\n",
        "if tf.config.list_physical_devices('GPU'):\n",
        "  print(\"TensorFlow **IS** using the GPU\")\n",
        "else:\n",
        "  print(\"TensorFlow **IS NOT** using the GPU\")"
      ],
      "metadata": {
        "colab": {
          "base_uri": "https://localhost:8080/"
        },
        "id": "B1BMZh0I9TS0",
        "outputId": "4abf191f-b2ae-48a6-ccd3-7ea11c49a19d"
      },
      "execution_count": 47,
      "outputs": [
        {
          "output_type": "stream",
          "name": "stdout",
          "text": [
            "TensorFlow **IS** using the GPU\n"
          ]
        }
      ]
    },
    {
      "cell_type": "markdown",
      "source": [
        "a linear regression example\n",
        "p 236"
      ],
      "metadata": {
        "id": "OmA30hpv2L2q"
      }
    },
    {
      "cell_type": "code",
      "source": [
        "import numpy as np\n",
        "from sklearn.datasets import fetch_california_housing\n",
        "\n",
        "housing = fetch_california_housing()\n",
        "\n",
        "# m is row which is instance and n is column which is feature\n",
        "m, n = housing.data.shape\n",
        "\n",
        "# create the bais\n",
        "bias = np.ones((m,1),dtype=np.float32)\n",
        "\n",
        "# make a graph\n",
        "x = tf.constant(housing.data, dtype=tf.float32)\n",
        "bias = tf.constant(bias, dtype=tf.float32)\n",
        "x = tf.concat([x,bias], 1)\n",
        "y = tf.constant(housing.target,dtype=tf.float32)\n",
        "y = tf.reshape(y, (-1,1))\n",
        "\n",
        "# prepare the data\n",
        "batch_size = 32\n",
        "dataset = tf.data.Dataset.from_tensor_slices((x, y))\n",
        "\n",
        "train_split = 0.8\n",
        "train_ds = dataset.take(int(train_split*m))\n",
        "test_ds = dataset.skip(int(train_split*m))\n",
        "\n",
        "# create batch\n",
        "dataset = dataset.shuffle(buffer_size=x.shape[0]*x.shape[1]).batch(batch_size)\n",
        "\n",
        "\n",
        "# model\n",
        "class Model(tf.Module):\n",
        "\n",
        "  def __init__(self, n):\n",
        "    # Randomly generate weight and bias terms\n",
        "    rand_init = tf.random.uniform(shape=[n,1], minval=-1., maxval=1., seed=22)\n",
        "    # Initialize model parameters\n",
        "    self.w_l = tf.Variable(rand_init)\n",
        "\n",
        "  @tf.function\n",
        "  def __call__(self, x):\n",
        "    return x @ self.w_l\n",
        "\n",
        "linear_model = Model(n+1)\n",
        "\n",
        "\n",
        "def mse_loss(y_pred, y):\n",
        "  return tf.reduce_mean(tf.square(y_pred,y))\n",
        "\n",
        "### training\n",
        "num_epochs = 1\n",
        "learning_rate = 0.01\n",
        "losses = []\n",
        "for epoch in range(num_epochs):\n",
        "  for x_batch, y_batch in dataset:\n",
        "    with tf.GradientTape() as tape:\n",
        "      y_pred = linear_model(x_batch)\n",
        "      batch_loss = mse_loss(y_pred, y_batch)\n",
        "      \n",
        "    # gradient\n",
        "    grads = tape.gradient(batch_loss, linear_model.variables)\n",
        "\n",
        "    for g,v in zip(grads, linear_model.variables):\n",
        "        print (g)\n",
        "        v.assign_sub(learning_rate*g)\n",
        "    break\n",
        "  \n",
        "\n",
        "  # loss\n",
        "  loss = mse_loss(linear_model(x),y)\n",
        "  losses.append(loss)\n",
        "  print (loss.numpy())\n",
        "\n",
        "  # print \n",
        "  if (epoch%10==0):\n",
        "    print (loss.numpy())\n",
        "\n"
      ],
      "metadata": {
        "colab": {
          "base_uri": "https://localhost:8080/"
        },
        "id": "QNLt6n7-pw_V",
        "outputId": "0a9ce421-cc36-44f0-cafd-156b4a4ee084"
      },
      "execution_count": 110,
      "outputs": [
        {
          "output_type": "stream",
          "name": "stdout",
          "text": [
            "tf.Tensor(\n",
            "[[-7.3085366e+03]\n",
            " [-6.4782738e+04]\n",
            " [-1.0987012e+04]\n",
            " [-2.4991968e+03]\n",
            " [-4.9787200e+06]\n",
            " [-6.8137568e+03]\n",
            " [-8.2631227e+04]\n",
            " [ 2.7735919e+05]\n",
            " [-2.3190098e+03]], shape=(9, 1), dtype=float32)\n",
            "8269147000000000.0\n",
            "8269147000000000.0\n"
          ]
        }
      ]
    },
    {
      "cell_type": "code",
      "source": [
        "import numpy as np\n",
        "\n",
        "a = np.zeros((4,4))\n",
        "b = np.ones((4,1))\n",
        "a = tf.constant(a)\n",
        "b = tf.constant(b)\n",
        "tf.concat([a,b],1)"
      ],
      "metadata": {
        "colab": {
          "base_uri": "https://localhost:8080/"
        },
        "id": "ZfHWBkQo3EJt",
        "outputId": "d903132e-736a-46f5-d7bf-d5922c0d497e"
      },
      "execution_count": 61,
      "outputs": [
        {
          "output_type": "execute_result",
          "data": {
            "text/plain": [
              "<tf.Tensor: shape=(4, 5), dtype=float64, numpy=\n",
              "array([[0., 0., 0., 0., 1.],\n",
              "       [0., 0., 0., 0., 1.],\n",
              "       [0., 0., 0., 0., 1.],\n",
              "       [0., 0., 0., 0., 1.]])>"
            ]
          },
          "metadata": {},
          "execution_count": 61
        }
      ]
    },
    {
      "cell_type": "code",
      "source": [
        "b = np.ones(10)\n",
        "b\n",
        "b.reshape((-1,1))"
      ],
      "metadata": {
        "colab": {
          "base_uri": "https://localhost:8080/"
        },
        "id": "x-2au_VJ4krZ",
        "outputId": "fbce4f22-4842-41dc-e02f-199f754c0f86"
      },
      "execution_count": 65,
      "outputs": [
        {
          "output_type": "execute_result",
          "data": {
            "text/plain": [
              "array([[1.],\n",
              "       [1.],\n",
              "       [1.],\n",
              "       [1.],\n",
              "       [1.],\n",
              "       [1.],\n",
              "       [1.],\n",
              "       [1.],\n",
              "       [1.],\n",
              "       [1.]])"
            ]
          },
          "metadata": {},
          "execution_count": 65
        }
      ]
    },
    {
      "cell_type": "code",
      "source": [
        "\n",
        "import numpy as np\n",
        "import tensorflow as tf\n",
        " \n",
        "N = 20   # number of samples\n",
        " \n",
        "# Generate random samples roughly between -10 to +10\n",
        "polynomial = np.poly1d([1, 2, 3])\n",
        "X = np.random.randn(N,1) * 5\n",
        "Y = polynomial(X)\n",
        " \n",
        "# Prepare input as an array of shape (N,3)\n",
        "XX = np.hstack([X*X, X, np.ones_like(X)])\n",
        " \n",
        "# Prepare TensorFlow objects\n",
        "w = tf.Variable(tf.random.normal((3,1)))  # the 3 coefficients\n",
        "x = tf.constant(XX, dtype=tf.float32)     # input sample\n",
        "w\n"
      ],
      "metadata": {
        "colab": {
          "base_uri": "https://localhost:8080/"
        },
        "id": "fmMKzJfF78aR",
        "outputId": "6d9f74cf-3b46-4118-e017-5a1ca4b639f5"
      },
      "execution_count": 95,
      "outputs": [
        {
          "output_type": "execute_result",
          "data": {
            "text/plain": [
              "<tf.Variable 'Variable:0' shape=(3, 1) dtype=float32, numpy=\n",
              "array([[-1.4239588 ],\n",
              "       [-0.01400542],\n",
              "       [ 0.64226186]], dtype=float32)>"
            ]
          },
          "metadata": {},
          "execution_count": 95
        }
      ]
    },
    {
      "cell_type": "code",
      "source": [],
      "metadata": {
        "id": "VDgEmNZSKtbd"
      },
      "execution_count": null,
      "outputs": []
    }
  ]
}