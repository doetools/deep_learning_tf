{
  "nbformat": 4,
  "nbformat_minor": 0,
  "metadata": {
    "colab": {
      "provenance": [],
      "gpuType": "T4",
      "authorship_tag": "ABX9TyNei9H4e6Z7JemyWK2QTq+i",
      "include_colab_link": true
    },
    "kernelspec": {
      "name": "python3",
      "display_name": "Python 3"
    },
    "language_info": {
      "name": "python"
    },
    "accelerator": "GPU"
  },
  "cells": [
    {
      "cell_type": "markdown",
      "metadata": {
        "id": "view-in-github",
        "colab_type": "text"
      },
      "source": [
        "<a href=\"https://colab.research.google.com/github/doetools/deep_learning_tf/blob/main/deep_learning.ipynb\" target=\"_parent\"><img src=\"https://colab.research.google.com/assets/colab-badge.svg\" alt=\"Open In Colab\"/></a>"
      ]
    },
    {
      "cell_type": "markdown",
      "source": [
        "get started with basic tensorflow operations"
      ],
      "metadata": {
        "id": "4n4qEHMVugD4"
      }
    },
    {
      "cell_type": "code",
      "source": [
        "print(tf.__version__)"
      ],
      "metadata": {
        "colab": {
          "base_uri": "https://localhost:8080/"
        },
        "id": "xQM7xKmgzqu5",
        "outputId": "1566e040-2fbb-4db2-af2e-58693b171c21"
      },
      "execution_count": null,
      "outputs": [
        {
          "output_type": "stream",
          "name": "stdout",
          "text": [
            "2.12.0\n"
          ]
        }
      ]
    },
    {
      "cell_type": "markdown",
      "source": [
        "the eager mode and has to use gradient tape\n",
        "https://www.tensorflow.org/guide/autodiff"
      ],
      "metadata": {
        "id": "CsxPKadvxqSX"
      }
    },
    {
      "cell_type": "code",
      "source": [
        "x = tf.Variable(3.0)\n",
        "y = tf.Variable(4.0)\n",
        "\n",
        "with tf.GradientTape() as tape:\n",
        "  f = x*x*y + y +2\n",
        "\n",
        "dy_dx = tape.gradient(f, x)\n",
        "dy_dx.numpy()"
      ],
      "metadata": {
        "colab": {
          "base_uri": "https://localhost:8080/"
        },
        "id": "7fn45jDczvuV",
        "outputId": "aea32410-30be-4fc9-b191-906a45e2f8b3"
      },
      "execution_count": null,
      "outputs": [
        {
          "output_type": "execute_result",
          "data": {
            "text/plain": [
              "24.0"
            ]
          },
          "metadata": {},
          "execution_count": 25
        }
      ]
    },
    {
      "cell_type": "markdown",
      "source": [
        "the non-eager mode as decorated by tf.function, which will first convert the python function into a graph (DAG) and then solve it."
      ],
      "metadata": {
        "id": "FHk_MSITx21u"
      }
    },
    {
      "cell_type": "code",
      "execution_count": null,
      "metadata": {
        "colab": {
          "base_uri": "https://localhost:8080/"
        },
        "id": "wUUFR2aEZmoN",
        "outputId": "eaabddfa-8e3e-4976-b84d-e982b2d56810"
      },
      "outputs": [
        {
          "output_type": "stream",
          "name": "stdout",
          "text": [
            "[24]\n",
            "[<tf.Tensor: shape=(), dtype=float32, numpy=24.0>]\n",
            "<class 'list'>\n"
          ]
        }
      ],
      "source": [
        "import tensorflow as tf\n",
        "\n",
        "x = tf.Variable(3.,name=\"x\",trainable=True)\n",
        "y = tf.Variable(4.,name=\"y\",trainable=True)\n",
        "\n",
        "\n",
        "@tf.function\n",
        "def fn(x, y):\n",
        "  f = x*x*y + y +2\n",
        "  g = tf.gradients(f,x)\n",
        "  tf.print(g)\n",
        "  return g\n",
        "\n",
        "g = fn(x, y)\n",
        "print(g)\n",
        "print(type(g))\n"
      ]
    },
    {
      "cell_type": "markdown",
      "source": [
        "some basic linear algbra\n"
      ],
      "metadata": {
        "id": "_VCYemogyl54"
      }
    },
    {
      "cell_type": "code",
      "source": [
        "a = tf.constant([[1,2],[3 ,4]])\n",
        "b = tf.constant([[3,4], [5, 6]])\n",
        "\n",
        "\n",
        "mul= a*b\n",
        "\n",
        "# a\n",
        "tf.transpose(a)\n",
        "a@tf.transpose(b)\n",
        "mul == tf.multiply(a,b)\n",
        "\n",
        "tf.reduce_sum(a)\n",
        "\n",
        "if tf.config.list_physical_devices('GPU'):\n",
        "  print(\"TensorFlow **IS** using the GPU\")\n",
        "else:\n",
        "  print(\"TensorFlow **IS NOT** using the GPU\")"
      ],
      "metadata": {
        "colab": {
          "base_uri": "https://localhost:8080/"
        },
        "id": "B1BMZh0I9TS0",
        "outputId": "4abf191f-b2ae-48a6-ccd3-7ea11c49a19d"
      },
      "execution_count": null,
      "outputs": [
        {
          "output_type": "stream",
          "name": "stdout",
          "text": [
            "TensorFlow **IS** using the GPU\n"
          ]
        }
      ]
    },
    {
      "cell_type": "markdown",
      "source": [
        "a linear regression example\n",
        "p 236"
      ],
      "metadata": {
        "id": "OmA30hpv2L2q"
      }
    },
    {
      "cell_type": "code",
      "source": [
        "import numpy as np\n",
        "from sklearn.datasets import fetch_california_housing\n",
        "import tensorflow as tf\n",
        "\n",
        "\n",
        "housing = fetch_california_housing()\n",
        "\n",
        "# m is row which is instance and n is column which is feature\n",
        "m, n = housing.data.shape\n",
        "\n",
        "# create the bais\n",
        "bias = np.ones((m,1),dtype=np.float32)\n",
        "\n",
        "# make a graph\n",
        "x = tf.constant(housing.data, dtype=tf.float32)\n",
        "bias = tf.constant(bias, dtype=tf.float32)\n",
        "x = tf.concat([x,bias], 1)\n",
        "y = tf.constant(housing.target,dtype=tf.float32)\n",
        "y = tf.reshape(y, (-1,1))\n",
        "\n",
        "print (housing)\n",
        "\n",
        "\n",
        "\n"
      ],
      "metadata": {
        "id": "QNLt6n7-pw_V",
        "colab": {
          "base_uri": "https://localhost:8080/"
        },
        "outputId": "b3e0be8e-15d5-4b8e-dad4-6c6e476017b1"
      },
      "execution_count": 57,
      "outputs": [
        {
          "output_type": "stream",
          "name": "stdout",
          "text": [
            "{'data': array([[   8.3252    ,   41.        ,    6.98412698, ...,    2.55555556,\n",
            "          37.88      , -122.23      ],\n",
            "       [   8.3014    ,   21.        ,    6.23813708, ...,    2.10984183,\n",
            "          37.86      , -122.22      ],\n",
            "       [   7.2574    ,   52.        ,    8.28813559, ...,    2.80225989,\n",
            "          37.85      , -122.24      ],\n",
            "       ...,\n",
            "       [   1.7       ,   17.        ,    5.20554273, ...,    2.3256351 ,\n",
            "          39.43      , -121.22      ],\n",
            "       [   1.8672    ,   18.        ,    5.32951289, ...,    2.12320917,\n",
            "          39.43      , -121.32      ],\n",
            "       [   2.3886    ,   16.        ,    5.25471698, ...,    2.61698113,\n",
            "          39.37      , -121.24      ]]), 'target': array([4.526, 3.585, 3.521, ..., 0.923, 0.847, 0.894]), 'frame': None, 'target_names': ['MedHouseVal'], 'feature_names': ['MedInc', 'HouseAge', 'AveRooms', 'AveBedrms', 'Population', 'AveOccup', 'Latitude', 'Longitude'], 'DESCR': '.. _california_housing_dataset:\\n\\nCalifornia Housing dataset\\n--------------------------\\n\\n**Data Set Characteristics:**\\n\\n    :Number of Instances: 20640\\n\\n    :Number of Attributes: 8 numeric, predictive attributes and the target\\n\\n    :Attribute Information:\\n        - MedInc        median income in block group\\n        - HouseAge      median house age in block group\\n        - AveRooms      average number of rooms per household\\n        - AveBedrms     average number of bedrooms per household\\n        - Population    block group population\\n        - AveOccup      average number of household members\\n        - Latitude      block group latitude\\n        - Longitude     block group longitude\\n\\n    :Missing Attribute Values: None\\n\\nThis dataset was obtained from the StatLib repository.\\nhttps://www.dcc.fc.up.pt/~ltorgo/Regression/cal_housing.html\\n\\nThe target variable is the median house value for California districts,\\nexpressed in hundreds of thousands of dollars ($100,000).\\n\\nThis dataset was derived from the 1990 U.S. census, using one row per census\\nblock group. A block group is the smallest geographical unit for which the U.S.\\nCensus Bureau publishes sample data (a block group typically has a population\\nof 600 to 3,000 people).\\n\\nA household is a group of people residing within a home. Since the average\\nnumber of rooms and bedrooms in this dataset are provided per household, these\\ncolumns may take surprisingly large values for block groups with few households\\nand many empty houses, such as vacation resorts.\\n\\nIt can be downloaded/loaded using the\\n:func:`sklearn.datasets.fetch_california_housing` function.\\n\\n.. topic:: References\\n\\n    - Pace, R. Kelley and Ronald Barry, Sparse Spatial Autoregressions,\\n      Statistics and Probability Letters, 33 (1997) 291-297\\n'}\n"
          ]
        }
      ]
    },
    {
      "cell_type": "markdown",
      "source": [
        "Improve training performance by normalizing the input data\n"
      ],
      "metadata": {
        "id": "duvenHizs7RT"
      }
    },
    {
      "cell_type": "code",
      "source": [
        "from sklearn.preprocessing import StandardScaler\n",
        "\n",
        "scaler = StandardScaler()\n",
        "scaler.fit(x)\n",
        "\n",
        "x = tf.constant(scaler.transform(x), dtype=tf.float32)\n",
        "print (x)\n",
        "\n"
      ],
      "metadata": {
        "colab": {
          "base_uri": "https://localhost:8080/"
        },
        "id": "a8SnvWVFgSbv",
        "outputId": "889f5807-5bc1-4f89-e3ff-d1466a26a436"
      },
      "execution_count": 60,
      "outputs": [
        {
          "output_type": "stream",
          "name": "stdout",
          "text": [
            "tf.Tensor(\n",
            "[[ 2.344766    0.9821427   0.62855947 ...  1.0525488  -1.3278369\n",
            "   0.        ]\n",
            " [ 2.332238   -0.6070189   0.32704142 ...  1.0431849  -1.3228445\n",
            "   0.        ]\n",
            " [ 1.7826995   1.8561815   1.1556205  ...  1.038502   -1.3328254\n",
            "   0.        ]\n",
            " ...\n",
            " [-1.1425933  -0.92485124 -0.09031809 ...  1.7782376  -0.8237138\n",
            "   0.        ]\n",
            " [-1.054583   -0.8453931  -0.04021104 ...  1.7782376  -0.8736261\n",
            "   0.        ]\n",
            " [-0.78012943 -1.0043093  -0.07044256 ...  1.7501458  -0.83369476\n",
            "   0.        ]], shape=(20640, 9), dtype=float32)\n"
          ]
        }
      ]
    },
    {
      "cell_type": "code",
      "source": [
        "lr = 0.01\n",
        "w_l = tf.Variable(tf.random.uniform(shape=[n+1,1], minval=-1., maxval=1.))\n",
        "\n",
        "for epoch in range (0,1000):\n",
        "  y_pred = x @ w_l\n",
        "  error = y_pred - y\n",
        "  loss = tf.reduce_mean(tf.square(error))\n",
        "  g = 2/m*tf.matmul(tf.transpose(x),error)\n",
        "  w_l = w_l - lr*g\n",
        "\n",
        "  # if epoch % 100 ==0:\n",
        "  #   print (w_l)\n",
        "print (w_l)\n"
      ],
      "metadata": {
        "colab": {
          "base_uri": "https://localhost:8080/"
        },
        "id": "A2eSqxXdRDKR",
        "outputId": "32df8428-df22-4f9a-f645-a92eda7a3adb"
      },
      "execution_count": 70,
      "outputs": [
        {
          "output_type": "stream",
          "name": "stdout",
          "text": [
            "tf.Tensor(\n",
            "[[ 0.7816014 ]\n",
            " [ 0.16981629]\n",
            " [-0.06245676]\n",
            " [ 0.08836748]\n",
            " [ 0.01469745]\n",
            " [-0.04262226]\n",
            " [-0.57273763]\n",
            " [-0.53236943]\n",
            " [-0.8590951 ]], shape=(9, 1), dtype=float32)\n"
          ]
        }
      ]
    },
    {
      "cell_type": "code",
      "source": [
        "from tensorflow.python.eager.backprop import GradientTape\n",
        "lr = 0.01\n",
        "w_l = tf.Variable(tf.random.uniform(shape=[n+1,1], minval=-1., maxval=1.))\n",
        "losses = []\n",
        "\n",
        "for epoch in range (0,1000):\n",
        "  with GradientTape(persistent=True) as tape:\n",
        "    y_pred = x @ w_l\n",
        "    error = y_pred - y\n",
        "    loss = tf.reduce_mean(tf.square(error))\n",
        "  print (loss)\n",
        "\n",
        "  g = tape.gradient(loss,w_l)\n",
        "\n",
        "  # do not use w_l = w_l - lr.g\n",
        "  # because RHS will return a Tensor, which is not\n",
        "  # tf.Variable anymore\n",
        "  # and as such tape will not watch it\n",
        "  # w_l= w_l - lr*g\n",
        "  w_l.assign_sub(lr*g)\n",
        "\n",
        "  if epoch % 50 ==0:\n",
        "    losses.append(loss)\n"
      ],
      "metadata": {
        "id": "4K36eOJZUUER"
      },
      "execution_count": null,
      "outputs": []
    },
    {
      "cell_type": "code",
      "source": [
        "import matplotlib.pyplot as plt\n",
        "\n",
        "plt.plot(range(1,len(losses)+1), losses)\n",
        "plt.show()"
      ],
      "metadata": {
        "colab": {
          "base_uri": "https://localhost:8080/",
          "height": 430
        },
        "id": "HOQrI8dIVh3W",
        "outputId": "8a818071-d1fe-4403-f87e-d9c285236d80"
      },
      "execution_count": 80,
      "outputs": [
        {
          "output_type": "display_data",
          "data": {
            "text/plain": [
              "<Figure size 640x480 with 1 Axes>"
            ],
            "image/png": "[encoded data removed]"
          },
          "metadata": {}
        }
      ]
    },
    {
      "cell_type": "code",
      "source": [
        "# prepare the data\n",
        "batch_size = 1000\n",
        "dataset = tf.data.Dataset.from_tensor_slices((x, y))\n",
        "\n",
        "train_split = 0.8\n",
        "train_ds = dataset.take(int(train_split*m))\n",
        "test_ds = dataset.skip(int(train_split*m))\n",
        "\n",
        "print (train_ds)"
      ],
      "metadata": {
        "colab": {
          "base_uri": "https://localhost:8080/"
        },
        "id": "Jwzi2wAMQ4X0",
        "outputId": "b0592d88-57fa-4999-9818-132920be988f"
      },
      "execution_count": 110,
      "outputs": [
        {
          "output_type": "stream",
          "name": "stdout",
          "text": [
            "<_TakeDataset element_spec=(TensorSpec(shape=(9,), dtype=tf.float32, name=None), TensorSpec(shape=(1,), dtype=tf.float32, name=None))>\n"
          ]
        }
      ]
    },
    {
      "cell_type": "code",
      "source": [
        "\n",
        "# create batch\n",
        "dataset = train_ds.shuffle(buffer_size=x.shape[0]*x.shape[1]).batch(batch_size)\n",
        "\n",
        "# create a model and fn\n",
        "class Model(tf.Module):\n",
        "\n",
        "  def __init__(self,n):\n",
        "    rand_init = tf.random.uniform(shape=[n], minval=0., maxval=5., seed=22)\n",
        "    self.w_l = tf.Variable(tf.reshape(rand_init,(-1,1)))\n",
        " \n",
        "\n",
        "  @tf.function\n",
        "  def __call__(self, x):\n",
        "    return x @ self.w_l\n",
        "\n",
        "def loss(y_pred, y):\n",
        "  return tf.reduce_mean(tf.square(y_pred - y))\n",
        "\n",
        "model = Model(n+1)\n",
        "\n",
        "x_train = tf.convert_to_tensor([x for x, _ in train_ds])\n",
        "y_train = tf.convert_to_tensor([y for _, y in train_ds])\n",
        "\n",
        "\n",
        "### training\n",
        "num_epochs = 1000\n",
        "lr = 0.01\n",
        "\n",
        "losses = []\n",
        "for epoch in range(num_epochs):\n",
        "  for x_batch, y_batch in dataset:\n",
        "    with tf.GradientTape() as tape:\n",
        "\n",
        "      batch_loss = loss(model(x_batch), y_batch)\n",
        "    \n",
        "    gd = tape.gradient(batch_loss, model.variables)\n",
        "\n",
        "    for g, v in zip(gd,model.variables):\n",
        "      v.assign_sub(g*lr)\n",
        "\n",
        "  if epoch % 20 == 0:\n",
        "\n",
        "    l = loss(model(x_train), y_train)\n",
        "    print (l)"
      ],
      "metadata": {
        "id": "VDgEmNZSKtbd",
        "colab": {
          "base_uri": "https://localhost:8080/"
        },
        "outputId": "9ce0abf0-d4e6-44b8-db56-7b4f1e98451e"
      },
      "execution_count": 111,
      "outputs": [
        {
          "output_type": "stream",
          "name": "stdout",
          "text": [
            "tf.Tensor(26.508173, shape=(), dtype=float32)\n",
            "tf.Tensor(4.9356656, shape=(), dtype=float32)\n",
            "tf.Tensor(4.7242894, shape=(), dtype=float32)\n",
            "tf.Tensor(4.629359, shape=(), dtype=float32)\n",
            "tf.Tensor(4.5748706, shape=(), dtype=float32)\n",
            "tf.Tensor(4.542712, shape=(), dtype=float32)\n",
            "tf.Tensor(4.5240073, shape=(), dtype=float32)\n",
            "tf.Tensor(4.512981, shape=(), dtype=float32)\n",
            "tf.Tensor(4.506484, shape=(), dtype=float32)\n",
            "tf.Tensor(4.5026326, shape=(), dtype=float32)\n",
            "tf.Tensor(4.5004683, shape=(), dtype=float32)\n",
            "tf.Tensor(4.4991803, shape=(), dtype=float32)\n",
            "tf.Tensor(4.498443, shape=(), dtype=float32)\n",
            "tf.Tensor(4.4980516, shape=(), dtype=float32)\n",
            "tf.Tensor(4.4977117, shape=(), dtype=float32)\n",
            "tf.Tensor(4.4976306, shape=(), dtype=float32)\n",
            "tf.Tensor(4.497553, shape=(), dtype=float32)\n",
            "tf.Tensor(4.497521, shape=(), dtype=float32)\n",
            "tf.Tensor(4.4974375, shape=(), dtype=float32)\n",
            "tf.Tensor(4.497791, shape=(), dtype=float32)\n",
            "tf.Tensor(4.4974203, shape=(), dtype=float32)\n",
            "tf.Tensor(4.497359, shape=(), dtype=float32)\n",
            "tf.Tensor(4.497341, shape=(), dtype=float32)\n",
            "tf.Tensor(4.4974127, shape=(), dtype=float32)\n",
            "tf.Tensor(4.4979577, shape=(), dtype=float32)\n",
            "tf.Tensor(4.497353, shape=(), dtype=float32)\n",
            "tf.Tensor(4.4973516, shape=(), dtype=float32)\n",
            "tf.Tensor(4.4973416, shape=(), dtype=float32)\n",
            "tf.Tensor(4.497384, shape=(), dtype=float32)\n",
            "tf.Tensor(4.497352, shape=(), dtype=float32)\n",
            "tf.Tensor(4.497331, shape=(), dtype=float32)\n",
            "tf.Tensor(4.497375, shape=(), dtype=float32)\n",
            "tf.Tensor(4.4973645, shape=(), dtype=float32)\n",
            "tf.Tensor(4.497359, shape=(), dtype=float32)\n",
            "tf.Tensor(4.497358, shape=(), dtype=float32)\n",
            "tf.Tensor(4.4973316, shape=(), dtype=float32)\n",
            "tf.Tensor(4.4973664, shape=(), dtype=float32)\n",
            "tf.Tensor(4.497325, shape=(), dtype=float32)\n",
            "tf.Tensor(4.4975853, shape=(), dtype=float32)\n",
            "tf.Tensor(4.4974604, shape=(), dtype=float32)\n",
            "tf.Tensor(4.497764, shape=(), dtype=float32)\n",
            "tf.Tensor(4.497344, shape=(), dtype=float32)\n",
            "tf.Tensor(4.4973364, shape=(), dtype=float32)\n",
            "tf.Tensor(4.497459, shape=(), dtype=float32)\n",
            "tf.Tensor(4.49736, shape=(), dtype=float32)\n",
            "tf.Tensor(4.497357, shape=(), dtype=float32)\n",
            "tf.Tensor(4.4974327, shape=(), dtype=float32)\n",
            "tf.Tensor(4.4974184, shape=(), dtype=float32)\n",
            "tf.Tensor(4.4974184, shape=(), dtype=float32)\n",
            "tf.Tensor(4.4973273, shape=(), dtype=float32)\n"
          ]
        }
      ]
    },
    {
      "cell_type": "code",
      "source": [
        "x_test = tf.convert_to_tensor([x for x, _ in test_ds])\n",
        "y_test = tf.convert_to_tensor([y for _, y in test_ds])\n",
        "\n",
        "l = loss(model(x_test),y_test)\n",
        "print(l)"
      ],
      "metadata": {
        "colab": {
          "base_uri": "https://localhost:8080/"
        },
        "id": "JmfvluN9noNo",
        "outputId": "453bfcf4-c148-49f7-f7f5-64ef8b70e940"
      },
      "execution_count": 112,
      "outputs": [
        {
          "output_type": "stream",
          "name": "stdout",
          "text": [
            "tf.Tensor(8.012042, shape=(), dtype=float32)\n"
          ]
        }
      ]
    },
    {
      "cell_type": "markdown",
      "source": [
        "Use optimizer"
      ],
      "metadata": {
        "id": "37zPDB_0thL-"
      }
    },
    {
      "cell_type": "code",
      "source": [
        "\n",
        "losses = []\n",
        "optimizer = tf.train.GradientDesc\n",
        "for epoch in range(num_epochs):\n",
        "  for x_batch, y_batch in dataset:\n",
        "    with tf.GradientTape() as tape:\n",
        "\n",
        "      batch_loss = loss(model(x_batch), y_batch)\n",
        "    \n",
        "    gd = tape.gradient(batch_loss, model.variables)\n",
        "\n",
        "    for g, v in zip(gd,model.variables):\n",
        "      v.assign_sub(g*lr)\n",
        "\n",
        "  if epoch % 20 == 0:\n",
        "\n",
        "    l = loss(model(x_train), y_train)\n",
        "    print (l)"
      ],
      "metadata": {
        "id": "SEm2sOiMsnnR"
      },
      "execution_count": null,
      "outputs": []
    }
  ]
}